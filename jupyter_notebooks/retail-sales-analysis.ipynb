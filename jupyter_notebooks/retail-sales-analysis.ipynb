{
  "cells": [
    {
      "cell_type": "markdown",
      "metadata": {
        "id": "0aStgWSO0E0E"
      },
      "source": [
        "# **Retail Sales Analysis Notebook**"
      ]
    },
    {
      "cell_type": "markdown",
      "metadata": {
        "id": "1eLEkw5O0ECa"
      },
      "source": [
        "## Objectives\n",
        "\n",
        "* Write your notebook objective here, for example, \"Fetch data from Kaggle and save as raw data\", or \"engineer features for modelling\"\n",
        "\n",
        "## Inputs\n",
        "\n",
        "* Write down which data or information you need to run the notebook \n",
        "\n",
        "## Outputs\n",
        "\n",
        "* Write here which files, code or artefacts you generate by the end of the notebook \n",
        "\n",
        "## Additional Comments\n",
        "\n",
        "* If you have any additional comments that don't fit in the previous bullets, please state them here. \n",
        "\n"
      ]
    },
    {
      "cell_type": "markdown",
      "metadata": {
        "id": "9uWZXH9LwoQg"
      },
      "source": [
        "---"
      ]
    },
    {
      "cell_type": "markdown",
      "metadata": {
        "id": "-mavJ8DibrcQ"
      },
      "source": [
        "# Section 1"
      ]
    },
    {
      "cell_type": "markdown",
      "metadata": {},
      "source": [
        "Section 1 content"
      ]
    },
    {
      "cell_type": "code",
      "execution_count": 1,
      "metadata": {},
      "outputs": [],
      "source": [
        "import pandas as pd\n",
        "import numpy as np\n",
        "import seaborn as sns\n",
        "import matplotlib.pyplot as plt"
      ]
    },
    {
      "cell_type": "markdown",
      "metadata": {},
      "source": [
        "## Data Acquisition"
      ]
    },
    {
      "cell_type": "code",
      "execution_count": 2,
      "metadata": {},
      "outputs": [
        {
          "name": "stderr",
          "output_type": "stream",
          "text": [
            "/Users/julianelliott/Documents/GitHub/retail-sales-analysis/.venv/lib/python3.12/site-packages/tqdm/auto.py:21: TqdmWarning: IProgress not found. Please update jupyter and ipywidgets. See https://ipywidgets.readthedocs.io/en/stable/user_install.html\n",
            "  from .autonotebook import tqdm as notebook_tqdm\n"
          ]
        },
        {
          "name": "stdout",
          "output_type": "stream",
          "text": [
            "Files downloaded to: /Users/julianelliott/.cache/kagglehub/datasets/manjeetsingh/retaildataset/versions/2\n",
            "backlog feat: remove files from the kaggle cashe folder on copy see https://github.com/users/Julian-Elliott/projects/3/views/1?pane=issue&itemId=115149029&issue=Julian-Elliott%7Cretail-sales-analysis%7C13\n",
            "Files copied to ../data\n"
          ]
        }
      ],
      "source": [
        "import os           # Import os for data directory management\n",
        "import shutil       # Import shutil for file operations\n",
        "import kagglehub    # Import Kaggle Hub to Download retail datasets\n",
        "\n",
        "# Download dataset \n",
        "path = kagglehub.dataset_download(\"manjeetsingh/retaildataset\")\n",
        "print(f'Files downloaded to: {path}')\n",
        "\n",
        "# Copy CSV files to data directory\n",
        "os.makedirs(\"../data\", exist_ok=True)\n",
        "for file in os.listdir(path):\n",
        "    if file.endswith(\".csv\"):\n",
        "        shutil.copy2(os.path.join(path, file), f\"../data/{file.lower().replace(' ', '-')}\")\n",
        "\n",
        "print('backlog feat: remove files from the kaggle cashe folder on copy see https://github.com/users/Julian-Elliott/projects/3/views/1?pane=issue&itemId=115149029&issue=Julian-Elliott%7Cretail-sales-analysis%7C13')\n",
        "\n",
        "print(\"Files copied to ../data\")"
      ]
    },
    {
      "cell_type": "code",
      "execution_count": 3,
      "metadata": {},
      "outputs": [],
      "source": [
        "# Load the retail datasets into dataframes\n",
        "sales_df = pd.read_csv(\"../data/sales-data-set.csv\")\n",
        "stores_df = pd.read_csv(\"../data/stores-data-set.csv\") \n",
        "features_df = pd.read_csv(\"../data/features-data-set.csv\")"
      ]
    },
    {
      "cell_type": "markdown",
      "metadata": {},
      "source": [
        "### Inspecting Dataset Data and building the data dictionary"
      ]
    },
    {
      "cell_type": "code",
      "execution_count": null,
      "metadata": {},
      "outputs": [
        {
          "data": {
            "text/html": [
              "<div>\n",
              "<style scoped>\n",
              "    .dataframe tbody tr th:only-of-type {\n",
              "        vertical-align: middle;\n",
              "    }\n",
              "\n",
              "    .dataframe tbody tr th {\n",
              "        vertical-align: top;\n",
              "    }\n",
              "\n",
              "    .dataframe thead th {\n",
              "        text-align: right;\n",
              "    }\n",
              "</style>\n",
              "<table border=\"1\" class=\"dataframe\">\n",
              "  <thead>\n",
              "    <tr style=\"text-align: right;\">\n",
              "      <th></th>\n",
              "      <th>Dataset</th>\n",
              "      <th>Column</th>\n",
              "      <th>Data Type</th>\n",
              "      <th>Missing Values</th>\n",
              "      <th>Missing %</th>\n",
              "      <th>Unique Values</th>\n",
              "      <th>Sample Values</th>\n",
              "      <th>Description</th>\n",
              "    </tr>\n",
              "  </thead>\n",
              "  <tbody>\n",
              "    <tr>\n",
              "      <th>0</th>\n",
              "      <td>Sales</td>\n",
              "      <td>Store</td>\n",
              "      <td>int64</td>\n",
              "      <td>0</td>\n",
              "      <td>0.00</td>\n",
              "      <td>45</td>\n",
              "      <td>1, 1, 1</td>\n",
              "      <td>The store number</td>\n",
              "    </tr>\n",
              "    <tr>\n",
              "      <th>1</th>\n",
              "      <td>Sales</td>\n",
              "      <td>Dept</td>\n",
              "      <td>int64</td>\n",
              "      <td>0</td>\n",
              "      <td>0.00</td>\n",
              "      <td>81</td>\n",
              "      <td>1, 1, 1</td>\n",
              "      <td>The department number</td>\n",
              "    </tr>\n",
              "    <tr>\n",
              "      <th>2</th>\n",
              "      <td>Sales</td>\n",
              "      <td>Date</td>\n",
              "      <td>object</td>\n",
              "      <td>0</td>\n",
              "      <td>0.00</td>\n",
              "      <td>143</td>\n",
              "      <td>05/02/2010, 12/02/2010, 19/02/2010</td>\n",
              "      <td>The week start date</td>\n",
              "    </tr>\n",
              "    <tr>\n",
              "      <th>3</th>\n",
              "      <td>Sales</td>\n",
              "      <td>Weekly_Sales</td>\n",
              "      <td>float64</td>\n",
              "      <td>0</td>\n",
              "      <td>0.00</td>\n",
              "      <td>359464</td>\n",
              "      <td>24924.5, 46039.49, 41595.55</td>\n",
              "      <td>Sales for the given department in the given store</td>\n",
              "    </tr>\n",
              "    <tr>\n",
              "      <th>4</th>\n",
              "      <td>Sales</td>\n",
              "      <td>IsHoliday</td>\n",
              "      <td>bool</td>\n",
              "      <td>0</td>\n",
              "      <td>0.00</td>\n",
              "      <td>2</td>\n",
              "      <td>False, True, False</td>\n",
              "      <td>Whether the week is a special holiday week</td>\n",
              "    </tr>\n",
              "    <tr>\n",
              "      <th>5</th>\n",
              "      <td>Stores</td>\n",
              "      <td>Store</td>\n",
              "      <td>int64</td>\n",
              "      <td>0</td>\n",
              "      <td>0.00</td>\n",
              "      <td>45</td>\n",
              "      <td>1, 2, 3</td>\n",
              "      <td>The store number</td>\n",
              "    </tr>\n",
              "    <tr>\n",
              "      <th>6</th>\n",
              "      <td>Stores</td>\n",
              "      <td>Type</td>\n",
              "      <td>object</td>\n",
              "      <td>0</td>\n",
              "      <td>0.00</td>\n",
              "      <td>3</td>\n",
              "      <td>A, A, B</td>\n",
              "      <td>Store type classification</td>\n",
              "    </tr>\n",
              "    <tr>\n",
              "      <th>7</th>\n",
              "      <td>Stores</td>\n",
              "      <td>Size</td>\n",
              "      <td>int64</td>\n",
              "      <td>0</td>\n",
              "      <td>0.00</td>\n",
              "      <td>40</td>\n",
              "      <td>151315, 202307, 37392</td>\n",
              "      <td>Store size in square feet</td>\n",
              "    </tr>\n",
              "    <tr>\n",
              "      <th>8</th>\n",
              "      <td>Features</td>\n",
              "      <td>Store</td>\n",
              "      <td>int64</td>\n",
              "      <td>0</td>\n",
              "      <td>0.00</td>\n",
              "      <td>45</td>\n",
              "      <td>1, 1, 1</td>\n",
              "      <td>The store number</td>\n",
              "    </tr>\n",
              "    <tr>\n",
              "      <th>9</th>\n",
              "      <td>Features</td>\n",
              "      <td>Date</td>\n",
              "      <td>object</td>\n",
              "      <td>0</td>\n",
              "      <td>0.00</td>\n",
              "      <td>182</td>\n",
              "      <td>05/02/2010, 12/02/2010, 19/02/2010</td>\n",
              "      <td>The week start date</td>\n",
              "    </tr>\n",
              "    <tr>\n",
              "      <th>10</th>\n",
              "      <td>Features</td>\n",
              "      <td>Temperature</td>\n",
              "      <td>float64</td>\n",
              "      <td>0</td>\n",
              "      <td>0.00</td>\n",
              "      <td>4178</td>\n",
              "      <td>42.31, 38.51, 39.93</td>\n",
              "      <td>Average temperature in the region</td>\n",
              "    </tr>\n",
              "    <tr>\n",
              "      <th>11</th>\n",
              "      <td>Features</td>\n",
              "      <td>Fuel_Price</td>\n",
              "      <td>float64</td>\n",
              "      <td>0</td>\n",
              "      <td>0.00</td>\n",
              "      <td>1011</td>\n",
              "      <td>2.572, 2.548, 2.514</td>\n",
              "      <td>Cost of fuel in the region</td>\n",
              "    </tr>\n",
              "    <tr>\n",
              "      <th>12</th>\n",
              "      <td>Features</td>\n",
              "      <td>MarkDown1</td>\n",
              "      <td>float64</td>\n",
              "      <td>4158</td>\n",
              "      <td>50.77</td>\n",
              "      <td>4023</td>\n",
              "      <td>10382.9, 6074.12, 410.31</td>\n",
              "      <td>Anonymized promotional markdown data (after No...</td>\n",
              "    </tr>\n",
              "    <tr>\n",
              "      <th>13</th>\n",
              "      <td>Features</td>\n",
              "      <td>MarkDown2</td>\n",
              "      <td>float64</td>\n",
              "      <td>5269</td>\n",
              "      <td>64.33</td>\n",
              "      <td>2715</td>\n",
              "      <td>6115.67, 254.39, 98.0</td>\n",
              "      <td>Anonymized promotional markdown data (after No...</td>\n",
              "    </tr>\n",
              "    <tr>\n",
              "      <th>14</th>\n",
              "      <td>Features</td>\n",
              "      <td>MarkDown3</td>\n",
              "      <td>float64</td>\n",
              "      <td>4577</td>\n",
              "      <td>55.89</td>\n",
              "      <td>2885</td>\n",
              "      <td>215.07, 51.98, 55805.51</td>\n",
              "      <td>Anonymized promotional markdown data (after No...</td>\n",
              "    </tr>\n",
              "    <tr>\n",
              "      <th>15</th>\n",
              "      <td>Features</td>\n",
              "      <td>MarkDown4</td>\n",
              "      <td>float64</td>\n",
              "      <td>4726</td>\n",
              "      <td>57.70</td>\n",
              "      <td>3405</td>\n",
              "      <td>2406.62, 427.39, 8.0</td>\n",
              "      <td>Anonymized promotional markdown data (after No...</td>\n",
              "    </tr>\n",
              "    <tr>\n",
              "      <th>16</th>\n",
              "      <td>Features</td>\n",
              "      <td>MarkDown5</td>\n",
              "      <td>float64</td>\n",
              "      <td>4140</td>\n",
              "      <td>50.55</td>\n",
              "      <td>4045</td>\n",
              "      <td>6551.42, 5988.57, 554.92</td>\n",
              "      <td>Anonymized promotional markdown data (after No...</td>\n",
              "    </tr>\n",
              "    <tr>\n",
              "      <th>17</th>\n",
              "      <td>Features</td>\n",
              "      <td>CPI</td>\n",
              "      <td>float64</td>\n",
              "      <td>585</td>\n",
              "      <td>7.14</td>\n",
              "      <td>2505</td>\n",
              "      <td>211.0963582, 211.2421698, 211.2891429</td>\n",
              "      <td>The consumer price index</td>\n",
              "    </tr>\n",
              "    <tr>\n",
              "      <th>18</th>\n",
              "      <td>Features</td>\n",
              "      <td>Unemployment</td>\n",
              "      <td>float64</td>\n",
              "      <td>585</td>\n",
              "      <td>7.14</td>\n",
              "      <td>404</td>\n",
              "      <td>8.106, 8.106, 8.106</td>\n",
              "      <td>The unemployment rate</td>\n",
              "    </tr>\n",
              "    <tr>\n",
              "      <th>19</th>\n",
              "      <td>Features</td>\n",
              "      <td>IsHoliday</td>\n",
              "      <td>bool</td>\n",
              "      <td>0</td>\n",
              "      <td>0.00</td>\n",
              "      <td>2</td>\n",
              "      <td>False, True, False</td>\n",
              "      <td>Whether the week is a special holiday week</td>\n",
              "    </tr>\n",
              "  </tbody>\n",
              "</table>\n",
              "</div>"
            ],
            "text/plain": [
              "     Dataset        Column Data Type  Missing Values  Missing %  \\\n",
              "0      Sales         Store     int64               0       0.00   \n",
              "1      Sales          Dept     int64               0       0.00   \n",
              "2      Sales          Date    object               0       0.00   \n",
              "3      Sales  Weekly_Sales   float64               0       0.00   \n",
              "4      Sales     IsHoliday      bool               0       0.00   \n",
              "5     Stores         Store     int64               0       0.00   \n",
              "6     Stores          Type    object               0       0.00   \n",
              "7     Stores          Size     int64               0       0.00   \n",
              "8   Features         Store     int64               0       0.00   \n",
              "9   Features          Date    object               0       0.00   \n",
              "10  Features   Temperature   float64               0       0.00   \n",
              "11  Features    Fuel_Price   float64               0       0.00   \n",
              "12  Features     MarkDown1   float64            4158      50.77   \n",
              "13  Features     MarkDown2   float64            5269      64.33   \n",
              "14  Features     MarkDown3   float64            4577      55.89   \n",
              "15  Features     MarkDown4   float64            4726      57.70   \n",
              "16  Features     MarkDown5   float64            4140      50.55   \n",
              "17  Features           CPI   float64             585       7.14   \n",
              "18  Features  Unemployment   float64             585       7.14   \n",
              "19  Features     IsHoliday      bool               0       0.00   \n",
              "\n",
              "    Unique Values                          Sample Values  \\\n",
              "0              45                                1, 1, 1   \n",
              "1              81                                1, 1, 1   \n",
              "2             143     05/02/2010, 12/02/2010, 19/02/2010   \n",
              "3          359464            24924.5, 46039.49, 41595.55   \n",
              "4               2                     False, True, False   \n",
              "5              45                                1, 2, 3   \n",
              "6               3                                A, A, B   \n",
              "7              40                  151315, 202307, 37392   \n",
              "8              45                                1, 1, 1   \n",
              "9             182     05/02/2010, 12/02/2010, 19/02/2010   \n",
              "10           4178                    42.31, 38.51, 39.93   \n",
              "11           1011                    2.572, 2.548, 2.514   \n",
              "12           4023               10382.9, 6074.12, 410.31   \n",
              "13           2715                  6115.67, 254.39, 98.0   \n",
              "14           2885                215.07, 51.98, 55805.51   \n",
              "15           3405                   2406.62, 427.39, 8.0   \n",
              "16           4045               6551.42, 5988.57, 554.92   \n",
              "17           2505  211.0963582, 211.2421698, 211.2891429   \n",
              "18            404                    8.106, 8.106, 8.106   \n",
              "19              2                     False, True, False   \n",
              "\n",
              "                                          Description  \n",
              "0                                    The store number  \n",
              "1                               The department number  \n",
              "2                                 The week start date  \n",
              "3   Sales for the given department in the given store  \n",
              "4          Whether the week is a special holiday week  \n",
              "5                                    The store number  \n",
              "6                           Store type classification  \n",
              "7                           Store size in square feet  \n",
              "8                                    The store number  \n",
              "9                                 The week start date  \n",
              "10                  Average temperature in the region  \n",
              "11                         Cost of fuel in the region  \n",
              "12  Anonymized promotional markdown data (after No...  \n",
              "13  Anonymized promotional markdown data (after No...  \n",
              "14  Anonymized promotional markdown data (after No...  \n",
              "15  Anonymized promotional markdown data (after No...  \n",
              "16  Anonymized promotional markdown data (after No...  \n",
              "17                           The consumer price index  \n",
              "18                              The unemployment rate  \n",
              "19         Whether the week is a special holiday week  "
            ]
          },
          "execution_count": 4,
          "metadata": {},
          "output_type": "execute_result"
        }
      ],
      "source": [
        "# Custom Function to create a comprehensive data dictionary for multiple datasets as experienced issues with ydata-profiling\n",
        "def create_data_dictionary(datasets_dict):\n",
        "    # Quick ref for detailed descriptions for each known column (from Kaggle data card https://www.kaggle.com/datasets/manjeetsingh/retaildataset/data)\n",
        "    descriptions = {\n",
        "        'Store': 'The store number',\n",
        "        'Date': 'The week start date',\n",
        "        'Temperature': 'Average temperature in the region',\n",
        "        'Fuel_Price': 'Cost of fuel in the region',\n",
        "        'MarkDown1': 'Anonymized promotional markdown data (after Nov 2011)',\n",
        "        'MarkDown2': 'Anonymized promotional markdown data (after Nov 2011)',\n",
        "        'MarkDown3': 'Anonymized promotional markdown data (after Nov 2011)',\n",
        "        'MarkDown4': 'Anonymized promotional markdown data (after Nov 2011)',\n",
        "        'MarkDown5': 'Anonymized promotional markdown data (after Nov 2011)',\n",
        "        'CPI': 'The consumer price index',\n",
        "        'Unemployment': 'The unemployment rate',\n",
        "        'IsHoliday': 'Whether the week is a special holiday week',\n",
        "        'Dept': 'The department number',\n",
        "        'Weekly_Sales': 'Sales for the given department in the given store',\n",
        "        'Type': 'Store type classification',\n",
        "        'Size': 'Store size in square feet'\n",
        "    }\n",
        "    \n",
        "    dictionary_data = []\n",
        "    for dataset_name, df in datasets_dict.items():\n",
        "        for column in df.columns:\n",
        "            # Get sample values (non-null)\n",
        "            sample_values = df[column].dropna().head(3).tolist()\n",
        "            sample_str = ', '.join([str(x) for x in sample_values])\n",
        "            \n",
        "            dictionary_data.append({\n",
        "                'Dataset': dataset_name,\n",
        "                'Column': column,\n",
        "                'Data Type': str(df[column].dtype),\n",
        "                'Missing Values': df[column].isnull().sum(),\n",
        "                'Missing %': round((df[column].isnull().sum() / len(df)) * 100, 2),\n",
        "                'Unique Values': df[column].nunique(),\n",
        "                'Sample Values': sample_str,\n",
        "                'Description': descriptions.get(column, 'Description needed')\n",
        "            })\n",
        "    return pd.DataFrame(dictionary_data)\n",
        "\n",
        "# Create datasets dictionary\n",
        "datasets = {\n",
        "    'Sales': sales_df,\n",
        "    'Stores': stores_df,\n",
        "    'Features': features_df\n",
        "}\n",
        "\n",
        "# Generate data dictionary that can be called upon later\n",
        "data_dictionary = create_data_dictionary(datasets)\n",
        "\n",
        "# Display data dictionary\n",
        "data_dictionary"
      ]
    },
    {
      "cell_type": "markdown",
      "metadata": {
        "id": "ZY3l0-AxO93d"
      },
      "source": [
        "---"
      ]
    },
    {
      "cell_type": "markdown",
      "metadata": {
        "id": "uFQo3ycuO-v6"
      },
      "source": [
        "# Section 2"
      ]
    },
    {
      "cell_type": "markdown",
      "metadata": {},
      "source": [
        "Section 2 content"
      ]
    },
    {
      "cell_type": "markdown",
      "metadata": {},
      "source": [
        "---"
      ]
    },
    {
      "cell_type": "markdown",
      "metadata": {},
      "source": [
        "NOTE"
      ]
    },
    {
      "cell_type": "markdown",
      "metadata": {},
      "source": [
        "* You may add as many sections as you want, as long as it supports your project workflow.\n",
        "* All notebook's cells should be run top-down (you can't create a dynamic wherein a given point you need to go back to a previous cell to execute some task, like go back to a previous cell and refresh a variable content)"
      ]
    },
    {
      "cell_type": "markdown",
      "metadata": {},
      "source": [
        "---"
      ]
    },
    {
      "cell_type": "markdown",
      "metadata": {
        "id": "ltNetd085qHf"
      },
      "source": [
        "# Push files to Repo"
      ]
    },
    {
      "cell_type": "markdown",
      "metadata": {},
      "source": [
        "* In cases where you don't need to push files to Repo, you may replace this section with \"Conclusions and Next Steps\" and state your conclusions and next steps."
      ]
    },
    {
      "cell_type": "code",
      "execution_count": 5,
      "metadata": {
        "id": "aKlnIozA4eQO",
        "outputId": "fd09bc1f-adb1-4511-f6ce-492a6af570c0"
      },
      "outputs": [
        {
          "ename": "IndentationError",
          "evalue": "expected an indented block after 'try' statement on line 2 (553063055.py, line 5)",
          "output_type": "error",
          "traceback": [
            "  \u001b[36mCell\u001b[39m\u001b[36m \u001b[39m\u001b[32mIn[5]\u001b[39m\u001b[32m, line 5\u001b[39m\n\u001b[31m    \u001b[39m\u001b[31mexcept Exception as e:\u001b[39m\n    ^\n\u001b[31mIndentationError\u001b[39m\u001b[31m:\u001b[39m expected an indented block after 'try' statement on line 2\n"
          ]
        }
      ],
      "source": [
        "import os\n",
        "try:\n",
        "  # create your folder here\n",
        "  # os.makedirs(name='')\n",
        "except Exception as e:\n",
        "  print(e)\n"
      ]
    }
  ],
  "metadata": {
    "accelerator": "GPU",
    "colab": {
      "name": "Data Practitioner Jupyter Notebook.ipynb",
      "provenance": [],
      "toc_visible": true
    },
    "kernelspec": {
      "display_name": ".venv",
      "language": "python",
      "name": "python3"
    },
    "language_info": {
      "codemirror_mode": {
        "name": "ipython",
        "version": 3
      },
      "file_extension": ".py",
      "mimetype": "text/x-python",
      "name": "python",
      "nbconvert_exporter": "python",
      "pygments_lexer": "ipython3",
      "version": "3.12.8"
    },
    "orig_nbformat": 2
  },
  "nbformat": 4,
  "nbformat_minor": 2
}
